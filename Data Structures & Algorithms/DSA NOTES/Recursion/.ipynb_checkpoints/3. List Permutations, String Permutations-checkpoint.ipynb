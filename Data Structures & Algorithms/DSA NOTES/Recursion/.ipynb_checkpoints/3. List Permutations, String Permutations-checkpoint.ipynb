{
 "cells": [
  {
   "cell_type": "markdown",
   "metadata": {},
   "source": [
    "# List Permutation"
   ]
  },
  {
   "cell_type": "markdown",
   "metadata": {},
   "source": [
    "\n",
    "**Question** - Let's use recursion to help us solve the following permutation problem:\n",
    "\n",
    "Given a list of items, the goal is to find all of the permutations of that list. For example,<br>\n",
    "Given a list like: `[0, 1, 2]` <br>\n",
    "Permutations: `[[0, 1, 2], [0, 2, 1], [1, 0, 2], [1, 2, 0], [2, 0, 1], [2, 1, 0]]` <br><br>\n",
    "Notice that the expected output is a list of permutation with each permuted item being represented by a list. Such an object that contains other object is called \"compound\" object. <br>\n",
    "\n",
    "**The Idea**<br>\n",
    "Build a compoundList incrementally starting with a blank list, and permute (add) each element of original input list at all possible positions. <br><br>\n",
    "\n",
    "For example, take `[0, 1, 2]` as the original input list:<br>\n",
    "\n",
    "1. Start with a blank compoundList `[[]]`. This is actually the last call of recursive function stack. Pick the an element `2` of original input list, making the compoundList as `[[2]]`<br><br>\n",
    "\n",
    "2. Pick next element `1` of original input list, and add this element at position 0, and 1 for each list of previous compoundList. **We will require to create copy of all lists of previous compoundList, and add the new element.** Now, the compoundList will become `[[1, 2], [2, 1]]`.<br><br>\n",
    "\n",
    "3. Pick next element `0` of original input list, and add this element at position 0, 1, and 2 for each list of previous compoundList. Now, the compoundList will become `[[0, 1, 2], [1, 0, 2], [1, 2, 0], [0, 2, 1], [2, 0, 1], [2, 1, 0]]` .<br><br>\n"
   ]
  },
  {
   "cell_type": "markdown",
   "metadata": {},
   "source": [
    "\n",
    "**Additional Resource**<br>\n",
    "While dealing with a \"compound\" object, a simple copy operation might not work as expected. You would need a function that can create a deep copy. For this purpose, you can make use of `deepcopy()` function from the `copy` module in Python. This module provides the function for normal (Shallow) and deep copy operations. Refer here - https://docs.python.org/3/library/copy.html for syntax and detailed information, that says:  <br>\n",
    "<br>\n",
    ">**Difference between Deep and Shallow Copy**<br>\n",
    "The difference between shallow and deep copying is only relevant for compound objects (objects that contain other objects, like lists or class instances):\n",
    " - A shallow copy constructs a new compound object and then inserts references into it to the objects found in the original.\n",
    " - A deep copy constructs a new compound object and then, recursively, inserts copies into it of the objects found in the original.\n",
    " \n",
    "**Example Illustration of deep copy, shallow copy, and assignment operator**<br>"
   ]
  },
  {
   "cell_type": "code",
   "execution_count": 2,
   "metadata": {},
   "outputs": [
    {
     "name": "stdout",
     "output_type": "stream",
     "text": [
      "True\n",
      "True\n",
      "False\n",
      "True\n",
      "False\n",
      "False\n"
     ]
    }
   ],
   "source": [
    "import copy                                           # `copy` module\n",
    "\n",
    "list1 = [0, 1, 2]\n",
    "list2 = [7, 8, 9]                                     \n",
    "compoundList1 = [list1, list2]                        # create a compound object\n",
    "\n",
    "\n",
    "'''ASSIGNMENT OPERATION - Points a new reference to the existing object.'''\n",
    "compoundList2 = compoundList1\n",
    "\n",
    "# id() - returns the identity of the object passed\n",
    "print(id(compoundList1) == id(compoundList2))          # True - compoundList2 is the same object as compoundList1\n",
    "print(id(compoundList1[0]) == id(compoundList2[0]))    # True - compoundList2[0] is the same object as compoundList1[0]\n",
    "\n",
    "\n",
    "'''SHALLOW COPY'''\n",
    "compoundList2 = copy.copy(compoundList1)\n",
    "\n",
    "print(id(compoundList1) == id(compoundList2))          # False - compoundList2 is now a new object\n",
    "print(id(compoundList1[0]) == id(compoundList2[0]))    # True - compoundList2[0] is the same object as compoundList1[0]\n",
    "\n",
    "\n",
    "'''DEEP COPY'''\n",
    "compoundList2 = copy.deepcopy(compoundList1)\n",
    "\n",
    "print(id(compoundList1) == id(compoundList2))          # False - compoundList2 is now a new object\n",
    "print(id(compoundList1[0]) == id(compoundList2[0]))    # False - compoundList2[0] is now a new object"
   ]
  },
  {
   "cell_type": "markdown",
   "metadata": {},
   "source": [
    "---\n",
    "### Exercise - Write the function definition here"
   ]
  },
  {
   "cell_type": "code",
   "execution_count": 3,
   "metadata": {},
   "outputs": [],
   "source": [
    "\n",
    "# Recursive Solution \n",
    "\"\"\"\n",
    "Args: myList: list of items to be permuted\n",
    "Returns: compound list: list of permutation with each permuted item being represented by a list\n",
    "\"\"\"\n",
    "import copy                                # We will use `deepcopy()` function from the `copy` module\n",
    "\n",
    "def permute(inputList):\n",
    "    \n",
    "    # a compound list\n",
    "    finalCompoundList = []                  # compoundList to be returned \n",
    "    \n",
    "    # Terminaiton / Base condition\n",
    "    if len(inputList) == 0:\n",
    "        finalCompoundList.append([])\n",
    "        \n",
    "    else:\n",
    "        first_element = inputList[0]        # Pick one element to be permuted\n",
    "        after_first = slice(1, None)        # `after_first` is an object of type 'slice' class\n",
    "        rest_list = inputList[after_first]  # convert the `slice` object into a list\n",
    "        \n",
    "        # Recursive function call\n",
    "        sub_compoundList = permute(rest_list)\n",
    "        \n",
    "        # Iterate through all lists of the compoundList returned from previous call\n",
    "        for aList in sub_compoundList:\n",
    "            \n",
    "            # Permuted the `first_element` at all positions 0, 1, 2 ... len(aList) in each iteration\n",
    "            for j in range(0, len(aList) + 1): \n",
    "                \n",
    "                # A normal copy/assignment will change aList[j] element\n",
    "                bList = copy.deepcopy(aList)  \n",
    "                \n",
    "                # A new list with size +1 as compared to aList\n",
    "                # is created by inserting the `first_element` at position j in bList\n",
    "                bList.insert(j, first_element)\n",
    "                \n",
    "                # Append the newly created list to the finalCompoundList\n",
    "                finalCompoundList.append(bList)\n",
    "                \n",
    "    return finalCompoundList"
   ]
  },
  {
   "cell_type": "code",
   "execution_count": 4,
   "metadata": {},
   "outputs": [
    {
     "name": "stdout",
     "output_type": "stream",
     "text": [
      "Pass\n",
      "Pass\n",
      "Pass\n",
      "Pass\n"
     ]
    }
   ],
   "source": [
    "# Test Cases \n",
    "\n",
    "# Helper Function\n",
    "def check_output(output, expected_output):\n",
    "    \"\"\"\n",
    "    Return True if output and expected_output\n",
    "    contains the same lists, False otherwise.\n",
    "    \n",
    "    Note that the ordering of the list is not important.\n",
    "    \n",
    "    Examples:\n",
    "        check_output([ [0, 1], [1, 0] ] ], [ [1, 0], [0, 1] ]) returns True\n",
    "\n",
    "    Args:\n",
    "        output(list): list of list\n",
    "        expected_output(list): list of list\n",
    "    \n",
    "    Returns:\n",
    "        bool\n",
    "    \"\"\"\n",
    "    o = copy.deepcopy(output)  # so that we don't mutate input\n",
    "    e = copy.deepcopy(expected_output)  # so that we don't mutate input\n",
    "    \n",
    "    o.sort()\n",
    "    e.sort()\n",
    "    return o == e\n",
    "\n",
    "print (\"Pass\" if  (check_output(permute([]), [[]])) else \"Fail\")\n",
    "print (\"Pass\" if  (check_output(permute([0]), [[0]])) else \"Fail\")\n",
    "print (\"Pass\" if  (check_output(permute([0, 1]), [[0, 1], [1, 0]])) else \"Fail\")\n",
    "print (\"Pass\" if  (check_output(permute([0, 1, 2]), [[0, 1, 2], [0, 2, 1], [1, 0, 2], [1, 2, 0], [2, 0, 1], [2, 1, 0]])) else \"Fail\")"
   ]
  },
  {
   "cell_type": "code",
   "execution_count": null,
   "metadata": {},
   "outputs": [],
   "source": []
  },
  {
   "cell_type": "code",
   "execution_count": null,
   "metadata": {},
   "outputs": [],
   "source": []
  },
  {
   "cell_type": "markdown",
   "metadata": {},
   "source": [
    "# String Permutations"
   ]
  },
  {
   "cell_type": "markdown",
   "metadata": {},
   "source": [
    "### Problem Statement\n",
    "\n",
    "Given an input string, return all permutations of the string in an array.\n",
    "\n",
    "**Example 1:**\n",
    "* `string = 'ab'`\n",
    "* `output = ['ab', 'ba']`\n",
    "\n",
    "**Example 2:**\n",
    "* `string = 'abc'`\n",
    "* `output = ['abc', 'bac', 'bca', 'acb', 'cab', 'cba']`\n",
    "---\n",
    "\n",
    "#### Note - Strings are Immutable \n",
    "Strings in Python are immutable, whch means that we cannot overwrite the characters of the String objects. For example:\n",
    "```\n",
    "str1 = \"Hello\"\n",
    "str1[0] = 'K'                         # Try changing the first character\n",
    "```\n",
    "will lead to \n",
    "```\n",
    "TypeError: 'str' object does not support item assignment\n",
    "```\n",
    "    \n",
    "We can only re-assign the variable to a new value (string), as follows:\n",
    "```\n",
    "str1 = \"Udacity\"                      # re-assignment\n",
    "str2 = \"Welcome to the \" + str1[3:]   # Returns 'Welcome to the city'\n",
    "```\n",
    "**Therefore, we do not require a deep copy in this exercise, as it was the case in our last example of list permutation.** \n",
    "\n",
    "---\n",
    "\n",
    "**The Idea**<br>\n",
    "Starting with a blank list, add each character of original input string at all possible positions. <br><br>\n",
    "\n",
    "For example, take `\"abc\"` as the original string:<br>\n",
    "\n",
    "1. Start with a blank `list()` object. This is actually the last call of recursive function stack. Pick a character `'c'` of original string, making the output as `['c']`<br><br>\n",
    "\n",
    "2. Pick next character `b` of original input string, and place the current character at different indices of the each sub-string of previous output. **We can make use of the sub-string of previous output, to create a new sub-string.** Now, the output will become `['bc', 'cb']`.<br><br>\n",
    "\n",
    "3. Pick next character `a` of original input string, and place the current character at different indices of the each sub-string of previous output. Now, the output will become `['abc', 'bac', 'bca', 'acb', 'cab', 'cba']`. .<br><br>\n",
    "---\n",
    "### Exercise - Write the function definition here\n",
    "`"
   ]
  },
  {
   "cell_type": "code",
   "execution_count": 5,
   "metadata": {},
   "outputs": [],
   "source": [
    "# Recursive Solution\n",
    "\"\"\"\n",
    "Param - input string\n",
    "Return - compound object: list of all permutations of the input string\n",
    "\"\"\"\n",
    "\n",
    "def permutations(string):\n",
    "    return return_permutations(string, 0)\n",
    "    \n",
    "def return_permutations(string, index):\n",
    "    # output to be returned \n",
    "    output = list()\n",
    "    \n",
    "    # Terminaiton / Base condition\n",
    "    if index >= len(string):\n",
    "        return [\"\"]\n",
    "    \n",
    "    # Recursive function call\n",
    "    small_output = return_permutations(string, index + 1)\n",
    "    \n",
    "    # Pick a character\n",
    "    current_char = string[index] \n",
    "    \n",
    "    # Iterate over each sub-string available in the list returned from previous call\n",
    "    for subString in small_output:\n",
    "        \n",
    "        # place the current character at different indices of the sub-string\n",
    "        for index in range(len(small_output[0]) + 1):\n",
    "            \n",
    "            # Make use of the sub-string of previous output, to create a new sub-string. \n",
    "            new_subString = subString[0: index] + current_char + subString[index:]\n",
    "            output.append(new_subString)\n",
    "\n",
    "    return output"
   ]
  },
  {
   "cell_type": "code",
   "execution_count": 6,
   "metadata": {},
   "outputs": [],
   "source": [
    "def test_function(test_case):\n",
    "    string = test_case[0]\n",
    "    solution = test_case[1]\n",
    "    output = permutations(string)\n",
    "    \n",
    "    output.sort()\n",
    "    solution.sort()\n",
    "    \n",
    "    if output == solution:\n",
    "        print(\"Pass\")\n",
    "    else:\n",
    "        print(\"Fail\")"
   ]
  },
  {
   "cell_type": "code",
   "execution_count": 7,
   "metadata": {},
   "outputs": [
    {
     "name": "stdout",
     "output_type": "stream",
     "text": [
      "Pass\n"
     ]
    }
   ],
   "source": [
    "string = 'ab'\n",
    "solution = ['ab', 'ba']\n",
    "test_case = [string, solution]\n",
    "test_function(test_case)"
   ]
  },
  {
   "cell_type": "code",
   "execution_count": 8,
   "metadata": {},
   "outputs": [
    {
     "name": "stdout",
     "output_type": "stream",
     "text": [
      "Pass\n"
     ]
    }
   ],
   "source": [
    "string = 'abc'\n",
    "output = ['abc', 'bac', 'bca', 'acb', 'cab', 'cba']\n",
    "test_case = [string, output]\n",
    "test_function(test_case)"
   ]
  },
  {
   "cell_type": "code",
   "execution_count": 9,
   "metadata": {},
   "outputs": [
    {
     "name": "stdout",
     "output_type": "stream",
     "text": [
      "Pass\n"
     ]
    }
   ],
   "source": [
    "string = 'abcd'\n",
    "output = ['abcd', 'bacd', 'bcad', 'bcda', 'acbd', 'cabd', 'cbad', 'cbda', 'acdb', 'cadb', 'cdab', 'cdba', 'abdc', 'badc', 'bdac', 'bdca', 'adbc', 'dabc', 'dbac', 'dbca', 'adcb', 'dacb', 'dcab', 'dcba']\n",
    "test_case = [string, output]\n",
    "test_function(test_case)"
   ]
  },
  {
   "cell_type": "code",
   "execution_count": null,
   "metadata": {},
   "outputs": [],
   "source": []
  }
 ],
 "metadata": {
  "kernelspec": {
   "display_name": "Python 3",
   "language": "python",
   "name": "python3"
  },
  "language_info": {
   "codemirror_mode": {
    "name": "ipython",
    "version": 3
   },
   "file_extension": ".py",
   "mimetype": "text/x-python",
   "name": "python",
   "nbconvert_exporter": "python",
   "pygments_lexer": "ipython3",
   "version": "3.7.3"
  }
 },
 "nbformat": 4,
 "nbformat_minor": 2
}
