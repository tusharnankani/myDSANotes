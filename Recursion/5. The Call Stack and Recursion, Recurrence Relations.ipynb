{
 "cells": [
  {
   "cell_type": "markdown",
   "metadata": {},
   "source": [
    "# Call stacks and recursion\n",
    "In this notebook, we'll take a look at *call stacks*, which will provide an opportunity to apply some of the concepts we've learned about both stacks and recursion."
   ]
  },
  {
   "cell_type": "markdown",
   "metadata": {},
   "source": [
    "### What is a *call stack*?\n",
    "\n",
    "When we use functions in our code, the computer makes use of a data structure called a **call stack**. As the name suggests, a *call stack* is a type of stack—meaning that it is a *Last-In, First-Out* (LIFO) data structure.\n",
    "\n",
    "So it's a type of stack—but a stack of *what*, exactly? \n",
    "\n",
    "Essentially, a *call stack* is a stack of *frames* that are used for the *functions* that we are calling. When we call a function, say `print_integers(5)`, a *frame* is created in memory. All the variables local to the function are created in this memory frame. And as soon as this frame is created, it's pushed onto the call stack.\n",
    "\n",
    "The frame that lies at the top of the call stack is executed first. And as soon as the function finishes executing, this frame is discarded from the *call stack*. \n"
   ]
  },
  {
   "cell_type": "markdown",
   "metadata": {},
   "source": [
    "### An example\n",
    "\n",
    "Let's consider the following function, which simply takes two integers and returns their sum"
   ]
  },
  {
   "cell_type": "code",
   "execution_count": 1,
   "metadata": {},
   "outputs": [
    {
     "name": "stdout",
     "output_type": "stream",
     "text": [
      "12\n"
     ]
    }
   ],
   "source": [
    "def add(num_one, num_two):\n",
    "    output = num_one + num_two\n",
    "    return output\n",
    "\n",
    "result = add(5, 7)\n",
    "print(result)"
   ]
  },
  {
   "cell_type": "markdown",
   "metadata": {},
   "source": [
    "Before understanding what happens when a function is executed, it is important to remind ourselves that whenever an expression such as `product = 5 * 7` is evaluated, the right hand side of the `=` sign is evaluted first. When the right-hand side is completely evaluated, the result is stored in the variable name mentioned in the left-hand side. \n",
    "\n",
    "When Python executes line 1 in the previous cell (`result = add(5, 7)`), the following things happen in memory:\n",
    "\n",
    "\n",
    "* A frame is created for the `add` function. This frame is then pushed onto the *call stack*. We do not have to worry about this because Python takes care of this for us. \n",
    "\n",
    "\n",
    "* Next, the parameters `num_one` and `num_two` get the values `5` and `7`, respectively\n",
    "\n",
    "If we run this code in Python tutor website [http://pythontutor.com/](http://pythontutor.com/) , we can get a nice visualization of what's happening \"behind the scenes\" in memory:\n",
    "\n",
    "<img src='https://r818024c833243xjupyterf5h19ymp.udacity-student-workspaces.com/notebooks/recursion/stack-frame-resources/01.png'>\n",
    "\n",
    "\n",
    "* Python then moves on to the first line of the function. The first line of the function is\n",
    "    \n",
    "        output = num_one + num_two\n",
    "      \n",
    "    Here an expression is being evaluated and the result is stored in a new variable. The expression here is sum of two numbers the result of which is stored in the variable `output`. We know that whenever an expression is evaluated, the right-hand side of the `= sign` is evaluated first. So, the numbers `5 and 7` will be added first.\n",
    "     \n",
    "     \n",
    "* Once the right-hand side is completely evaluated, then the assignment operation happens i.e. now the result of `5 + 7` will be stored in the variable `output`.\n",
    "<img src='https://r818024c833243xjupyterf5h19ymp.udacity-student-workspaces.com/notebooks/recursion/stack-frame-resources/02.png'>   \n",
    "\n",
    "\n",
    "* In the next line, we are returning this value. \n",
    "\n",
    "        return output\n",
    "        \n",
    "   Python acknowledged this return statement. \n",
    "   <img src='https://r818024c833243xjupyterf5h19ymp.udacity-student-workspaces.com/notebooks/recursion/stack-frame-resources/03.png'>\n",
    "   \n",
    "   \n",
    "* Now the last line of the function has been executed. Therefore, this function can now be discarded from the stack frame. Also, the right-hand side of the expression `result = add(5, 7)` has finished evaluation. Now, the result of this evaluation will be stored in the variable `result`.\n",
    "\n",
    "   <img src='https://r818024c833243xjupyterf5h19ymp.udacity-student-workspaces.com/notebooks/recursion/stack-frame-resources/04.png'>\n"
   ]
  },
  {
   "cell_type": "markdown",
   "metadata": {},
   "source": [
    "\n",
    "Now the next question is how does this behave like a stack?\n",
    "The answer is pretty simple. We know that a stack is a Last-In First-Out (LIFO) structure, meaning the latest element inserted in the stack is the first to be removed. \n",
    "\n",
    "You can play more with such \"behind-the-scenes\" of code execution on the Python tutor website: http://pythontutor.com/\n",
    "\n",
    "### Another example\n",
    "\n",
    "Here's another example. Let's say we have a function `add()` which adds two integers and then prints a custom message for us using the `custom_print()` function."
   ]
  },
  {
   "cell_type": "code",
   "execution_count": 2,
   "metadata": {},
   "outputs": [
    {
     "name": "stdout",
     "output_type": "stream",
     "text": [
      "The sum of 5 and 7 is: 12\n"
     ]
    }
   ],
   "source": [
    "def add(num_one, num_two):\n",
    "    output = num_one + num_two\n",
    "    custom_print(output, num_one, num_two)\n",
    "    return output\n",
    "\n",
    "def custom_print(output, num_one, num_two):\n",
    "    print(\"The sum of {} and {} is: {}\".format(num_one, num_two, output))\n",
    "    \n",
    "result = add(5, 7)    "
   ]
  },
  {
   "cell_type": "markdown",
   "metadata": {},
   "source": [
    "What happens \"behind-the-scenes\" when `add()` is called, as in `result = add(5, 7)`?\n",
    "\n",
    "Feel free to play with this on the Python tutor website. Here are a few points which might help aid the understanding.\n",
    "\n",
    "* We know that when add function is called using `result = add(5, 7)`, a frame is created in the memory for the `add()` function. This frame is then pushed onto the call stack.\n",
    "\n",
    "\n",
    "* Next, the two numbers are added and their result is stored in the variable `output`. \n",
    "\n",
    "\n",
    "* On the next line we have a new function call - `custom_print(output, num_one, num_two)`. It's obvious that a new frame should be created for this function call as well. You must have realized that this new frame is now pushed into the call stack. \n",
    "\n",
    "* We also know that the function which is at the top of the call stack is the one which Python executes. So, our `custom_print(output, num_one, num_two)` will now be executed. \n",
    "\n",
    "\n",
    "* Python executes this function and as soon as it is finished with execution, the frame for `custom_print(output, num_one, num_two)` is discarded. If you recall, this is the LIFO behavior that we have discussed while studying stacks. \n",
    "\n",
    "\n",
    "* Now, again the frame for `add()` function is at the top. Python resumes operation just after the line where it had left and returns the `output`. "
   ]
  },
  {
   "cell_type": "markdown",
   "metadata": {},
   "source": [
    "### Call Stack and Recursion\n",
    "\n",
    "#### Problem Statement\n",
    "\n",
    "Consider the following problem:\n",
    "\n",
    "Given a positive integer `n`, write a function, `print_integers`, that uses recursion to print all numbers from `n` to `1`. \n",
    "\n",
    "For example, if `n` is `4`, the function shuld print `4 3 2 1`. \n",
    "\n",
    "If we use iteration, the solution to the problem is simple. We can simply start at `4` and use a loop to print all numbers till `1`. However, instead of using an interative approach, our goal is to solve this problem using recursion."
   ]
  },
  {
   "cell_type": "code",
   "execution_count": 3,
   "metadata": {},
   "outputs": [
    {
     "name": "stdout",
     "output_type": "stream",
     "text": [
      "5\n",
      "4\n",
      "3\n",
      "2\n",
      "1\n"
     ]
    }
   ],
   "source": [
    "def print_integers(n):\n",
    "    if n <= 0:\n",
    "        return\n",
    "    print(n)\n",
    "    print_integers(n - 1)\n",
    "    \n",
    "print_integers(5)"
   ]
  },
  {
   "cell_type": "markdown",
   "metadata": {},
   "source": [
    "* As expected, a frame will be created for the `print_integers()` function and pushed onto the call stack. \n",
    "\n",
    "\n",
    "* Next, the parameter `n` gets the value `5`. \n",
    "\n",
    "\n",
    "* Following this, the function starts executing. The base condition is checked. For `n = 5`, the base case is `False`, so we move forward and print the value of `n`.\n",
    "\n",
    "\n",
    "* In the next line, `print_integers()` is called again. This time it is called with the argument `n - 1`. The value of `n` in the current frame is `5`. So this new function call takes place with value `4`. Again, a new frame is created. **Note that for every new call a new frame will be created.** This frame is pushed onto the top of the stack. \n",
    "\n",
    "\n",
    "* Python now starts executing this frame. Again the base case is checked. It's `False` for `n = 4`. Following this, the `n` is printed and then `print_integers()` is called with argument `n - 1 = 3`. \n",
    "\n",
    "\n",
    "* The process keeps on like this until we hit the base case. When `n <= 0`, we return from the frame without calling the function `print_integers()` again. Because we have returned from the function call, the frame is discarded from the call stack and the next frame resumes execution right after the line where we left off. "
   ]
  },
  {
   "cell_type": "code",
   "execution_count": null,
   "metadata": {},
   "outputs": [],
   "source": []
  },
  {
   "cell_type": "code",
   "execution_count": null,
   "metadata": {},
   "outputs": [],
   "source": []
  },
  {
   "cell_type": "markdown",
   "metadata": {},
   "source": [
    "# Recurrence Relations\n",
    "---\n",
    "\n",
    "## Problem Statement\n",
    "\n",
    "Previously, we considered the following problem:\n",
    "\n",
    ">Given a positive integer `n`, write a function, `print_integers`, that uses recursion to print all numbers from `n` to `1`. \n",
    ">\n",
    ">For example, if `n` is `4`, the function shuld print `4 3 2 1`. \n",
    "\n",
    "Our solution was:"
   ]
  },
  {
   "cell_type": "code",
   "execution_count": 4,
   "metadata": {},
   "outputs": [
    {
     "name": "stdout",
     "output_type": "stream",
     "text": [
      "5\n",
      "4\n",
      "3\n",
      "2\n",
      "1\n"
     ]
    }
   ],
   "source": [
    "def print_integers(n):\n",
    "    if n <= 0:\n",
    "        return\n",
    "    print(n)\n",
    "    print_integers(n - 1)\n",
    "    \n",
    "print_integers(5)"
   ]
  },
  {
   "cell_type": "markdown",
   "metadata": {},
   "source": [
    "We have already discussed that every time a function is called, a new *frame* is created in memory, which is then pushed onto the *call stack*. For the current function, `print_integers`, the call stack with all the frames would look like this:\n",
    "\n",
    "<img src='https://r818024c833243xjupyterf5h19ymp.udacity-student-workspaces.com/files/recursion/recurrence-relation-resources/01.png'>"
   ]
  },
  {
   "cell_type": "markdown",
   "metadata": {},
   "source": [
    "Note that in Python, the stack is displayed in an \"upside down\" manner. This can be seen in the illustration above—the last frame (i.e. the frame with `n = 0`) lies at the top of the stack (but is displayed last here) and the first frame (i.e., the frame with `n = 5`) lies at the bottom of the stack (but is displayed first).\n",
    "\n",
    "But don't let this confuse you. The frame with `n = 0` is indeed the top of the stack, so it will be discarded first. And the frame with `n = 5` is indeed at the bottom of the stack, so it will be discarded last."
   ]
  },
  {
   "cell_type": "markdown",
   "metadata": {},
   "source": [
    "We define time complexity as a measure of amount of time it takes to run an algorithm. Similarly, the time complexity of our function `print_integers(5)`, would indicate the amount of time taken to exceute our function `print_integers`. But notice how when we call `print_integers()` with a particular value of `n`, it recursively calls itself multiple times. \n",
    "\n",
    "In other words, when we call `print_integers(n)`, it does operations (like checking for base case, printing number) and then calls `print_integers(n - 1)`.\n",
    "\n",
    "Therefore, the overall time taken by `print_integers(n)` to execute would be equal to the time taken to execute its own simple operations and the time taken to execute `print_integers(n - 1)`."
   ]
  },
  {
   "cell_type": "markdown",
   "metadata": {},
   "source": [
    "Let the time taken to execute the function `print_integers(n)` be $T(n)$. And let the time taken to exceute the function's own simple operations be represented by some constant, $k$.\n",
    "\n",
    "In that case, we can say that\n",
    "\n",
    "$$T(n) = T(n - 1) + k$$\n",
    "\n",
    "where $T(n - 1)$ represents the time taken to execute the function `print_integers(n - 1)`.\n",
    "\n",
    "Similarly, we can represent $T(n - 1)$ as\n",
    "\n",
    "$$T(n - 1) = T(n - 2) + k$$\n",
    "\n",
    "We can see that a pattern is being formed here:\n",
    "\n",
    "1. $T(n)\\ \\ \\ \\ \\ \\ \\      = T(n - 1) + k$\n",
    "2. $T(n - 1) = T(n - 2) + k$\n",
    "3. $T(n - 2) = T(n - 3) + k$\n",
    "4. $T(n - 3) = T(n - 4) + k$\n",
    ".<br>\n",
    ".<br>\n",
    ".<br>\n",
    ".<br>\n",
    ".<br>\n",
    ".<br>\n",
    "5. $T(2) = T(1) + k$\n",
    "6. $T(1) = T(0) + k$\n",
    "7. $T(0) = k1$\n",
    "\n",
    "Notice that when `n = 0` we are only checking the base case and then returning. This time can be represented by some other constant, $k1$.\n",
    "\n",
    "If we add the respective left-hand sides and right-hand sides of all these equations, we get:\n",
    "\n",
    "$$T(n) = nk + k1$$\n",
    "\n",
    "We know that while calculating time complexity, we tend to ignore these added constants because for large input sizes on the order of $10^5$, these constants become irrelevant.\n",
    "\n",
    "Thus, we can simplify the above to:\n",
    "\n",
    "$$T(n) = nk $$\n",
    "\n",
    "We can see that the time complexity of our function `print_integers(n)` is a linear function of $n$. Hence, we can say that the time complexity of the function is $O(n)$.\n"
   ]
  },
  {
   "cell_type": "code",
   "execution_count": null,
   "metadata": {},
   "outputs": [],
   "source": []
  },
  {
   "cell_type": "markdown",
   "metadata": {},
   "source": [
    "## Binary Search\n",
    "#### Overview\n",
    "\n",
    "Given a **sorted** list (say `arr`), and a key (say `target`). The binary search algorithm returns the index of the `target` element if it is present in the given `arr` list, else returns -1. Here is an overview of how the the recursive version of binary search algorithm works:\n",
    "\n",
    "1. Given a list with the lower bound (`start_index`) and the upper bound (`end_index`). \n",
    "1. Find the center (say `mid_index`) of the list. \n",
    " 1. Check if the element at the center is your `target`? If yes, return the `mid_index`.<br><br>\n",
    " 1. Check if the `target` is greater than that element at `mid_index`? If yes, call the same function with right sub-array w.r.t center i.e., updated indexes as `mid_index + 1` to `end_index` <br><br>\n",
    " 1. Check if the `target` is less than that element at `mid_index`? If yes, call the same function with left sub-array w.r.t center i.e., updated indexes as `start_index` to `mid_index - 1` <br><br>\n",
    "1. Repeat the step above until you find the target or until the bounds are the same or cross (the upper bound is less than the lower bound).\n",
    "\n",
    "#### Complexity Analysis\n",
    "Let's look at the time complexity of the recursive version of binary search algorithm.\n",
    "\n",
    ">Note: The binary search function can also be written iteratively. But for the sake of understanding recurrence relations, we will have a look at the recursive algorithm.\n",
    "\n",
    "Here's the binary search algorithm, coded using recursion:"
   ]
  },
  {
   "cell_type": "code",
   "execution_count": 5,
   "metadata": {},
   "outputs": [],
   "source": [
    "def binary_search(arr, target):\n",
    "    return binary_search_func(arr, 0, len(arr) - 1, target)\n",
    "\n",
    "def binary_search_func(arr, start_index, end_index, target):\n",
    "    if start_index > end_index:\n",
    "        return -1\n",
    "    \n",
    "    mid_index = (start_index + end_index)//2\n",
    "    \n",
    "    if arr[mid_index] == target:\n",
    "        return mid_index\n",
    "    elif arr[mid_index] > target:\n",
    "        return binary_search_func(arr, start_index, mid_index - 1, target)\n",
    "    else:\n",
    "        return binary_search_func(arr, mid_index + 1, end_index, target)\n",
    "        "
   ]
  },
  {
   "cell_type": "code",
   "execution_count": 6,
   "metadata": {},
   "outputs": [
    {
     "name": "stdout",
     "output_type": "stream",
     "text": [
      "5\n"
     ]
    }
   ],
   "source": [
    "arr = [0, 1, 2, 3, 4, 5, 6, 7, 8]\n",
    "print(binary_search(arr, 5))"
   ]
  },
  {
   "cell_type": "markdown",
   "metadata": {},
   "source": [
    "Let's try to analyze the time complexity of the recursive algorithm for binary search by finding out the recurrence relation."
   ]
  },
  {
   "cell_type": "markdown",
   "metadata": {},
   "source": [
    "Our `binary_search()` function calls the `binary_search_func()` function. So the time complexity of the function is entirely dependent on the time complexity of the `binary_search_func()`. \n",
    "\n",
    "The input here is an array, so our time complexity will be determined in terms of the size of the array. \n",
    "\n",
    "Like we did earlier, let's say the time complexity of `binary_search_func()` is a function of the input size, `n`. In other words, the time complexity is $T(n)$.\n",
    "\n",
    "Also keep in mind that we are usually concerned with the worst-case time complexity, and that is what we will calculate here. In the worst case, the `target` value will not be present in the array. \n",
    "\n",
    "In the `binary_search_func()` function, we first check for the base case. If the base case does not return `True`, we calculate the `mid_index` and then compare the element at this `mid_index` with the `target` values. All the operations are independent of the size of the array. Therefore, we can consider all these independent operations as taking a combined time, $k$.\n",
    "\n",
    "Apart from these constant time operations, we do just one other task. We either make a call on the left-half of the array, or on the right half of the array. By doing so, we are reducing the input size by $n/2$.\n",
    "\n",
    ">Note: Remember that we usually consider large input sizes while calculating time complexity; there is no significant difference between $10^5$ and ($10^5 + 1$).\n",
    "\n",
    "Thus, our new function call is only called with half the input size. \n",
    "We said that $T(n)$ was the time complexity of our original function. The time complexity of the function when called with half the input size will be $T(n/2)$.\n",
    "\n",
    "Therefore:\n",
    "\n",
    "$$T(n) = T(n/2) + k$$\n",
    "\n",
    "Similarly, in the next step, the time complexity of the function called with half the input size would be:\n",
    "\n",
    "$$T(n/2) = T(n/4) + k$$\n",
    "\n",
    "We can now form similar equations as we did for the last problem:\n",
    "\n",
    "1. $T(n)\\ \\ \\  = T(n/2) + k$\n",
    "2. $T(n/2) = T(n/4) + k$\n",
    "3. $T(n/4) = T(n/8) + k$\n",
    "4. $T(n/8) = T(n/16) + k$\n",
    ".<br>\n",
    ".<br>\n",
    ".<br>\n",
    ".<br>\n",
    ".<br>\n",
    ".<br>\n",
    "5. $T(4) = T(2) + k$\n",
    "6. $T(2) = T(1) + k$\n",
    "7. $T(1) = T(0) + k1$ $^{(1)}$         \n",
    "8. $T(0) = k1$\n",
    "\n",
    "$^{(1)}$ If we have only one element, we go to 0 elements next\n",
    "\n",
    "From our binary search section, we know that it takes $log(n)$ steps to go from $T(n)$ to $1$. Therefore, when we add the corresponding left-hand sides and right-hand sides, we can safely say that:\n",
    "\n",
    "$$T(n) = log(n) * k + k1$$\n",
    "\n",
    "As always, we can ignore the constant. Therefore:\n",
    "\n",
    "$$T(n) = log(n) * k $$\n",
    "\n",
    "Thus we see that the time complexity of the function is a logarithmic function of the input, $n$. Hence, the time complexity of the recursive algorithm for binary search is $log(n)$.\n",
    "\n",
    "\n",
    "\n",
    "\n"
   ]
  },
  {
   "cell_type": "code",
   "execution_count": null,
   "metadata": {},
   "outputs": [],
   "source": []
  },
  {
   "cell_type": "code",
   "execution_count": null,
   "metadata": {},
   "outputs": [],
   "source": []
  }
 ],
 "metadata": {
  "kernelspec": {
   "display_name": "Python 3",
   "language": "python",
   "name": "python3"
  },
  "language_info": {
   "codemirror_mode": {
    "name": "ipython",
    "version": 3
   },
   "file_extension": ".py",
   "mimetype": "text/x-python",
   "name": "python",
   "nbconvert_exporter": "python",
   "pygments_lexer": "ipython3",
   "version": "3.7.3"
  }
 },
 "nbformat": 4,
 "nbformat_minor": 2
}
